{
 "cells": [
  {
   "cell_type": "markdown",
   "metadata": {},
   "source": [
    "Q1. Write a Python program to read an entire text file."
   ]
  },
  {
   "cell_type": "code",
   "execution_count": null,
   "metadata": {},
   "outputs": [
    {
     "data": {
      "text/plain": [
       "Welcome to python\n",
       "This is a test file\n"
      ]
     },
     "metadata": {},
     "output_type": "display_data"
    }
   ],
   "source": [
    "try:\n",
    "    with open('test_file.txt', 'r') as f:\n",
    "        print(f.read())\n",
    "except FileNotFoundError:\n",
    "    print('File not found')\n"
   ]
  },
  {
   "cell_type": "markdown",
   "metadata": {},
   "source": [
    "Q2. Write a Python program to append text to a file and display the text."
   ]
  },
  {
   "cell_type": "code",
   "execution_count": null,
   "metadata": {},
   "outputs": [
    {
     "data": {
      "text/plain": [
       "Welcome to python\n",
       "This is a test fileHello, World!\n",
       "{text}\n"
      ]
     },
     "metadata": {},
     "output_type": "display_data"
    }
   ],
   "source": [
    "try:\n",
    "    # Open the file 'test_file.txt' in append and read mode\n",
    "    with open('test_file.txt', 'a+') as f:\n",
    "        text = 'Hello, World!'  # Text to be written to the file\n",
    "        f.write('\\n' + text)  # Write the text to the file with a newline\n",
    "        f.seek(0)  # Move the file pointer to the beginning of the file\n",
    "        print(f.read())  # Read and print the content of the file\n",
    "except FileNotFoundError:\n",
    "    # Handle the case where the file is not found\n",
    "    print('File not found')"
   ]
  },
  {
   "cell_type": "markdown",
   "metadata": {},
   "source": [
    "Q3. Write a Python program to read a file line by line and store it into a list."
   ]
  },
  {
   "cell_type": "code",
   "execution_count": null,
   "metadata": {},
   "outputs": [
    {
     "data": {
      "text/plain": [
       "['Welcome to python', 'This is a test fileHello, World!', '{text}']\n"
      ]
     },
     "metadata": {},
     "output_type": "display_data"
    }
   ],
   "source": [
    "# Function to read a file line by line using readline() and store it into a list\n",
    "def read_file_to_list(file_path):\n",
    "    lines = []  # Initialize an empty list to store the lines\n",
    "    try:\n",
    "        with open(file_path, 'r') as file:  # Open the file in read mode\n",
    "            while True:\n",
    "                line = file.readline()  # Read a single line from the file\n",
    "                if not line:  # If the line is empty, end of file is reached\n",
    "                    break\n",
    "                lines.append(line.strip())  # Add the line to the list, stripping any trailing newline characters\n",
    "    except FileNotFoundError:\n",
    "        print(f\"The file {file_path} was not found.\")  # Handle the case where the file is not found\n",
    "    return lines  # Return the list of lines\n",
    "\n",
    "# Example usage\n",
    "file_path = 'test_file.txt'\n",
    "lines = read_file_to_list(file_path)\n",
    "print(lines)  # Print the list of lines"
   ]
  },
  {
   "cell_type": "markdown",
   "metadata": {},
   "source": [
    "Q4. Write a program that counts lines and characters in a file. With your favorite text editor, code a Python module called mymod.py, which exports three top-level names:\n",
    "a) A countLines(name) function that reads an input file and counts the number of lines in it \n",
    "b) A countChars(name) function that reads an input file and counts the number of characters in it \n",
    "c) A test(name) function that calls both counting functions with a given input file­name. \n",
    "All three mymod functions should expect a filename string to be passed in.\n",
    "Now, test your module interactively, using import and name qualification to fetch your exports. "
   ]
  },
  {
   "cell_type": "markdown",
   "metadata": {},
   "source": [
    "Q5. Write a second module, myclient.py, which imports mymod and tests its functions; If myclient uses from to fetch from mymod, will mymod’s functions be accessible from the top level of myclient? What if it imports with import instead? Try coding both variations in myclient and test interactively, by importing myclient "
   ]
  }
 ],
 "metadata": {
  "language_info": {
   "name": "python"
  }
 },
 "nbformat": 4,
 "nbformat_minor": 2
}
